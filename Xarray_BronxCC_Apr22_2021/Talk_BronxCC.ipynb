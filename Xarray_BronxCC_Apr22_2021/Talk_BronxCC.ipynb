{
 "cells": [
  {
   "cell_type": "code",
   "execution_count": null,
   "metadata": {
    "slideshow": {
     "slide_type": "skip"
    }
   },
   "outputs": [],
   "source": [
    "import warnings\n",
    "warnings.filterwarnings(\"ignore\")\n",
    "import xarray as xr\n",
    "xr.set_options(display_style='html')"
   ]
  },
  {
   "cell_type": "markdown",
   "metadata": {
    "slideshow": {
     "slide_type": "slide"
    }
   },
   "source": [
    "# Xarray for the geosciences"
   ]
  },
  {
   "cell_type": "markdown",
   "metadata": {
    "slideshow": {
     "slide_type": "-"
    }
   },
   "source": [
    "*Raphael Dussin, April 2021*"
   ]
  },
  {
   "cell_type": "markdown",
   "metadata": {},
   "source": [
    "![](http://xarray.pydata.org/en/stable/_static/dataset-diagram-logo.png \"lgo\")"
   ]
  },
  {
   "cell_type": "markdown",
   "metadata": {
    "slideshow": {
     "slide_type": "slide"
    }
   },
   "source": [
    "# Outline"
   ]
  },
  {
   "cell_type": "markdown",
   "metadata": {},
   "source": [
    "### 1. Numerical models of the ocean\n",
    "### 2. Working with ocean model data: numpy\n",
    "### 3. Xarray/Dask improved workflow"
   ]
  },
  {
   "cell_type": "markdown",
   "metadata": {
    "slideshow": {
     "slide_type": "slide"
    }
   },
   "source": [
    "### What is the ocean made of?\n",
    "\n",
    "<img src=https://i.pinimg.com/originals/b0/26/1e/b0261e1bbd7010bfb88c982cf19ff5ad.jpg width=800>"
   ]
  },
  {
   "cell_type": "markdown",
   "metadata": {
    "slideshow": {
     "slide_type": "notes"
    }
   },
   "source": [
    "If we could see the ocean at the nanometer scale, we would see a soup of molecules (mostly H20) moving around. The speed of the molecules and volume occupied by them depends on the temperature, or rather temperature is the macroscopic measurement of the microscopic agitation of molecules. In a solid (like ice), molecules are tightly packed and bond electromagnetically which gives the solid its rigidity. For the ocean it is impossible to measure the individual movement of molecules and the observer has to consider this soup of molecules as a \"continuous media\", looking at the macroscopic properties of the fluid such as its temperature and concentration in salt and other molecules."
   ]
  },
  {
   "cell_type": "markdown",
   "metadata": {
    "slideshow": {
     "slide_type": "slide"
    }
   },
   "source": [
    "### Newton second's law is that: \n",
    "\n",
    "### mass x acceleration = sum of all forces"
   ]
  },
  {
   "cell_type": "markdown",
   "metadata": {
    "slideshow": {
     "slide_type": "slide"
    }
   },
   "source": [
    "<img src=https://d2r55xnwy6nx47.cloudfront.net/uploads/2018/01/Navier-StokesEquation_560.jpg width=800>"
   ]
  },
  {
   "cell_type": "markdown",
   "metadata": {
    "slideshow": {
     "slide_type": "slide"
    }
   },
   "source": [
    "<img src=https://images.slideplayer.com/16/5261667/slides/slide_7.jpg width=800>"
   ]
  },
  {
   "cell_type": "markdown",
   "metadata": {
    "slideshow": {
     "slide_type": "slide"
    }
   },
   "source": [
    "### Unfortunately these equations are impossible to solve by hand, needs a computer"
   ]
  },
  {
   "cell_type": "markdown",
   "metadata": {
    "slideshow": {
     "slide_type": "slide"
    }
   },
   "source": [
    "### convert continuous operators (e.g. $\\partial_{t} u$) into discrete operators (e.g. $(u(t + \\Delta t) - u(t))/\\Delta t$)\n",
    "\n",
    "### all numerical schemes are only accurate up to a certain order!\n",
    "\n",
    "### higher order are better but more computationally expensive"
   ]
  },
  {
   "cell_type": "markdown",
   "metadata": {
    "slideshow": {
     "slide_type": "slide"
    }
   },
   "source": [
    "<img src=https://image2.slideserve.com/4507757/grid-boxes-in-a-three-dimensional-ocean-model-l.jpg width=800>"
   ]
  },
  {
   "cell_type": "markdown",
   "metadata": {
    "slideshow": {
     "slide_type": "slide"
    }
   },
   "source": [
    "Ocean dynamics spans multiple order of magnitude in time and space\n",
    "\n",
    "<img src=https://www.researchgate.net/profile/Justyna_Jonca/publication/278641703/figure/fig13/AS:669537305382929@1536641541904/11-Spatial-and-temporal-scales-of-ocean-processes-Dickey-2001_W640.jpg width=600>"
   ]
  },
  {
   "cell_type": "markdown",
   "metadata": {
    "slideshow": {
     "slide_type": "slide"
    }
   },
   "source": [
    "Ocean model has:\n",
    "\n",
    "* dx = dy = 1-100km horizontal resolution\n",
    "* dt=10-1000 seconds (depends on dx)\n",
    "* runs on supercomputer with O(10) - O(10000) compute cores\n",
    "* produces GB -> TB of data"
   ]
  },
  {
   "cell_type": "markdown",
   "metadata": {
    "slideshow": {
     "slide_type": "slide"
    }
   },
   "source": [
    "File format for geophysical data:\n",
    "\n",
    "* binary format (ASCII text file is not storage efficient)\n",
    "* usually self-documented (metadata header + data records)\n",
    "* some sort of lossless data compression (gzip, blosc,...)\n",
    "* examples: netCDF, HDF4/5, grib\n",
    "\n",
    "Data representation is typically 3d/4d arrays:\n",
    "\n",
    "* time + 2/3 spatial dimensions (longitude, latitude, [depth/pressure])"
   ]
  },
  {
   "cell_type": "code",
   "execution_count": null,
   "metadata": {
    "slideshow": {
     "slide_type": "skip"
    }
   },
   "outputs": [],
   "source": [
    "#!wget http://35.188.34.63:8080/thredds/fileServer/OM4p5/ocean_monthly_z.200301-200712.nc4"
   ]
  },
  {
   "cell_type": "code",
   "execution_count": null,
   "metadata": {
    "slideshow": {
     "slide_type": "skip"
    }
   },
   "outputs": [],
   "source": [
    "#!wget https://github.com/raphaeldussin/MOM6-AnalysisCookbook/raw/master/docs/notebooks/data/ocean_grid_sym_OM4_05.nc"
   ]
  },
  {
   "cell_type": "markdown",
   "metadata": {
    "slideshow": {
     "slide_type": "slide"
    }
   },
   "source": [
    "#### Working with netcdf files (the old and long way)\n",
    "\n",
    "* open the file\n",
    "* inspect for variables\n",
    "* load variables into a numpy array\n",
    "* perform operation on the array"
   ]
  },
  {
   "cell_type": "code",
   "execution_count": null,
   "metadata": {
    "slideshow": {
     "slide_type": "slide"
    }
   },
   "outputs": [],
   "source": [
    "import numpy as np\n",
    "import netCDF4\n",
    "nc = netCDF4.Dataset(\"ocean_monthly_z.200301-200712.nc4\")\n",
    "print(nc.variables.keys())"
   ]
  },
  {
   "cell_type": "code",
   "execution_count": null,
   "metadata": {
    "slideshow": {
     "slide_type": "slide"
    }
   },
   "outputs": [],
   "source": [
    "thetao = nc[\"thetao\"]\n",
    "print(type(thetao))"
   ]
  },
  {
   "cell_type": "code",
   "execution_count": null,
   "metadata": {
    "slideshow": {
     "slide_type": "fragment"
    }
   },
   "outputs": [],
   "source": [
    "# thetao contains all the information from the netcdf file \n",
    "# includig dimensions, units,...\n",
    "thetao"
   ]
  },
  {
   "cell_type": "code",
   "execution_count": null,
   "metadata": {
    "slideshow": {
     "slide_type": "slide"
    }
   },
   "outputs": [],
   "source": [
    "# we can access every part of the metadata\n",
    "print(thetao.units)"
   ]
  },
  {
   "cell_type": "code",
   "execution_count": null,
   "metadata": {
    "slideshow": {
     "slide_type": "fragment"
    }
   },
   "outputs": [],
   "source": [
    "# including dimensions\n",
    "print(thetao.dimensions)"
   ]
  },
  {
   "cell_type": "markdown",
   "metadata": {
    "slideshow": {
     "slide_type": "fragment"
    }
   },
   "source": [
    "now how do we work with the data?"
   ]
  },
  {
   "cell_type": "code",
   "execution_count": null,
   "metadata": {
    "slideshow": {
     "slide_type": "slide"
    }
   },
   "outputs": [],
   "source": [
    "# we transfer the content of the file records into \n",
    "# a new variable (load into memory)\n",
    "%time data = thetao[:]"
   ]
  },
  {
   "cell_type": "code",
   "execution_count": null,
   "metadata": {
    "slideshow": {
     "slide_type": "fragment"
    }
   },
   "outputs": [],
   "source": [
    "print(type(data))\n",
    "print(data.shape)"
   ]
  },
  {
   "cell_type": "code",
   "execution_count": null,
   "metadata": {
    "scrolled": true,
    "slideshow": {
     "slide_type": "slide"
    }
   },
   "outputs": [],
   "source": [
    "print(data.units)"
   ]
  },
  {
   "cell_type": "code",
   "execution_count": null,
   "metadata": {
    "slideshow": {
     "slide_type": "fragment"
    }
   },
   "outputs": [],
   "source": [
    "print(data.dims)"
   ]
  },
  {
   "cell_type": "markdown",
   "metadata": {
    "slideshow": {
     "slide_type": "slide"
    }
   },
   "source": [
    "What went wrong? we seem to have lost all the metadata between the netcdf4.variable and numpy.array types"
   ]
  },
  {
   "cell_type": "markdown",
   "metadata": {
    "slideshow": {
     "slide_type": "slide"
    }
   },
   "source": [
    "To use the data, the scientist must know what the different dimensions refer to and in which order they are. This is error-prone and writing code with numpay.array is not very readable for the non-expert:"
   ]
  },
  {
   "cell_type": "code",
   "execution_count": null,
   "metadata": {
    "slideshow": {
     "slide_type": "fragment"
    }
   },
   "outputs": [],
   "source": [
    "something = data[:,0,:,:].mean(axis=0)\n",
    "print(type(something))\n",
    "print(something.shape)\n",
    "#print(data.shape)"
   ]
  },
  {
   "cell_type": "markdown",
   "metadata": {
    "slideshow": {
     "slide_type": "fragment"
    }
   },
   "source": [
    "something is the time-averaged Sea Surface Temperature. can you guess from the code?"
   ]
  },
  {
   "cell_type": "markdown",
   "metadata": {
    "slideshow": {
     "slide_type": "slide"
    }
   },
   "source": [
    "Now this:"
   ]
  },
  {
   "cell_type": "code",
   "execution_count": null,
   "metadata": {
    "slideshow": {
     "slide_type": "fragment"
    }
   },
   "outputs": [],
   "source": [
    "newthing = data[:,0,:,:].mean(axis=0).mean(axis=1)"
   ]
  },
  {
   "cell_type": "code",
   "execution_count": null,
   "metadata": {
    "slideshow": {
     "slide_type": "fragment"
    }
   },
   "outputs": [],
   "source": [
    "sst_tavg = data[:,0,:,:].mean(axis=0)\n",
    "print(sst_tavg.shape)\n",
    "sst_tavg_xavg = sst_tavg.mean(axis=1) # the axis number has shift!!\n",
    "print(sst_tavg_xavg.shape)\n",
    "print(np.allclose(newthing, sst_tavg_xavg))"
   ]
  },
  {
   "cell_type": "markdown",
   "metadata": {
    "slideshow": {
     "slide_type": "slide"
    }
   },
   "source": [
    "Plotting results:"
   ]
  },
  {
   "cell_type": "code",
   "execution_count": null,
   "metadata": {
    "slideshow": {
     "slide_type": "fragment"
    }
   },
   "outputs": [],
   "source": [
    "import matplotlib.pyplot as plt\n",
    "grid = netCDF4.Dataset(\"ocean_grid_sym_OM4_05.nc\")\n",
    "lon = grid[\"geolon\"][:] ; lat = grid[\"geolat\"][:]\n",
    "plt.figure(figsize=[12, 4])\n",
    "plt.pcolormesh(lon, lat, sst_tavg, cmap='gist_ncar')\n",
    "plt.colorbar() ; plt.show()"
   ]
  },
  {
   "cell_type": "code",
   "execution_count": null,
   "metadata": {
    "slideshow": {
     "slide_type": "skip"
    }
   },
   "outputs": [],
   "source": [
    "del data"
   ]
  },
  {
   "cell_type": "markdown",
   "metadata": {
    "slideshow": {
     "slide_type": "slide"
    }
   },
   "source": [
    "confused? we all were!"
   ]
  },
  {
   "cell_type": "markdown",
   "metadata": {
    "slideshow": {
     "slide_type": "slide"
    }
   },
   "source": [
    "### xarray to the rescue\n",
    "\n",
    "* xarray will bridge the gap between the numpy.array and the metadata of the netcdf.variable!\n",
    "* xarray has interfaces to netcdf files but not only (also grib, zarr, iris,...) and several engines (netcdf4, pydap, scipy.IO,...)"
   ]
  },
  {
   "cell_type": "code",
   "execution_count": null,
   "metadata": {
    "slideshow": {
     "slide_type": "fragment"
    }
   },
   "outputs": [],
   "source": [
    "import xarray as xr"
   ]
  },
  {
   "cell_type": "markdown",
   "metadata": {
    "slideshow": {
     "slide_type": "slide"
    }
   },
   "source": [
    "### Xarray dataset:"
   ]
  },
  {
   "cell_type": "code",
   "execution_count": null,
   "metadata": {
    "slideshow": {
     "slide_type": "fragment"
    }
   },
   "outputs": [],
   "source": [
    "ds = xr.open_dataset(\"ocean_monthly_z.200301-200712.nc4\")"
   ]
  },
  {
   "cell_type": "markdown",
   "metadata": {
    "slideshow": {
     "slide_type": "fragment"
    }
   },
   "source": [
    "Here I open a netcdf file but it could be a collection of files, various format, local OR distant!"
   ]
  },
  {
   "cell_type": "code",
   "execution_count": null,
   "metadata": {
    "slideshow": {
     "slide_type": "slide"
    }
   },
   "outputs": [],
   "source": [
    "ds"
   ]
  },
  {
   "cell_type": "markdown",
   "metadata": {
    "slideshow": {
     "slide_type": "slide"
    }
   },
   "source": [
    "### Xarray DataArray:"
   ]
  },
  {
   "cell_type": "code",
   "execution_count": null,
   "metadata": {
    "slideshow": {
     "slide_type": "fragment"
    }
   },
   "outputs": [],
   "source": [
    "ds[\"thetao\"]"
   ]
  },
  {
   "cell_type": "markdown",
   "metadata": {
    "slideshow": {
     "slide_type": "slide"
    }
   },
   "source": [
    "What is under the hood? numpy or dask array"
   ]
  },
  {
   "cell_type": "code",
   "execution_count": null,
   "metadata": {
    "slideshow": {
     "slide_type": "fragment"
    }
   },
   "outputs": [],
   "source": [
    "ds = xr.open_dataset(\"ocean_monthly_z.200301-200712.nc4\")"
   ]
  },
  {
   "cell_type": "code",
   "execution_count": null,
   "metadata": {
    "slideshow": {
     "slide_type": "fragment"
    }
   },
   "outputs": [],
   "source": [
    "print(type(ds['zos']))\n",
    "print(type(ds['zos'].data)) # takes 1-2 second"
   ]
  },
  {
   "cell_type": "code",
   "execution_count": null,
   "metadata": {
    "slideshow": {
     "slide_type": "fragment"
    }
   },
   "outputs": [],
   "source": [
    "# notice the chunks argument\n",
    "ds = xr.open_dataset(\"ocean_monthly_z.200301-200712.nc4\",\n",
    "                     chunks={'time':1})"
   ]
  },
  {
   "cell_type": "code",
   "execution_count": null,
   "metadata": {
    "slideshow": {
     "slide_type": "fragment"
    }
   },
   "outputs": [],
   "source": [
    "print(type(ds['zos']))\n",
    "print(type(ds['zos'].data)) # instant!"
   ]
  },
  {
   "cell_type": "markdown",
   "metadata": {
    "slideshow": {
     "slide_type": "slide"
    }
   },
   "source": [
    "dask array are lazy, numpy array are eager!"
   ]
  },
  {
   "cell_type": "markdown",
   "metadata": {
    "slideshow": {
     "slide_type": "slide"
    }
   },
   "source": [
    "merging datasets and playing with dimensions and coordinates is easy"
   ]
  },
  {
   "cell_type": "code",
   "execution_count": null,
   "metadata": {
    "slideshow": {
     "slide_type": "fragment"
    }
   },
   "outputs": [],
   "source": [
    "grid = xr.open_dataset(\"ocean_grid_sym_OM4_05.nc\")\n",
    "ds[\"geolon\"] = grid[\"geolon\"]\n",
    "ds[\"geolat\"] = grid[\"geolat\"]"
   ]
  },
  {
   "cell_type": "code",
   "execution_count": null,
   "metadata": {
    "slideshow": {
     "slide_type": "fragment"
    }
   },
   "outputs": [],
   "source": [
    "ds = ds.set_coords([\"geolon\", \"geolat\"])"
   ]
  },
  {
   "cell_type": "markdown",
   "metadata": {
    "slideshow": {
     "slide_type": "slide"
    }
   },
   "source": [
    "xarray has knowledge of labels such as dimensions so it makes the code more readable!\n",
    "\n",
    "```python\n",
    "thetao[:,0,:,:].mean(axis=0)\n",
    "```\n",
    "\n",
    "becomes"
   ]
  },
  {
   "cell_type": "code",
   "execution_count": null,
   "metadata": {
    "slideshow": {
     "slide_type": "fragment"
    }
   },
   "outputs": [],
   "source": [
    "sst_tavg = ds[\"thetao\"].sel(z_l=10.).mean(dim='time')"
   ]
  },
  {
   "cell_type": "code",
   "execution_count": null,
   "metadata": {
    "slideshow": {
     "slide_type": "slide"
    }
   },
   "outputs": [],
   "source": [
    "sst_tavg"
   ]
  },
  {
   "cell_type": "markdown",
   "metadata": {
    "slideshow": {
     "slide_type": "slide"
    }
   },
   "source": [
    "at this point, it is all virtual, no data has been computed yet!\n",
    "Dask built a \"graph\" (think recipe) of how to obtain the result. "
   ]
  },
  {
   "cell_type": "markdown",
   "metadata": {
    "slideshow": {
     "slide_type": "fragment"
    }
   },
   "source": [
    "To get the result of the computation, we need to explicitly load or ask to display the values"
   ]
  },
  {
   "cell_type": "code",
   "execution_count": null,
   "metadata": {
    "scrolled": true,
    "slideshow": {
     "slide_type": "fragment"
    }
   },
   "outputs": [],
   "source": [
    "%time sst_tavg.load()"
   ]
  },
  {
   "cell_type": "code",
   "execution_count": null,
   "metadata": {
    "slideshow": {
     "slide_type": "slide"
    }
   },
   "outputs": [],
   "source": [
    "sst_tavg.plot(figsize=[12,4], cmap='gist_ncar',\n",
    "              x='geolon', y=\"geolat\", vmin=-2, vmax=32)"
   ]
  },
  {
   "cell_type": "markdown",
   "metadata": {
    "slideshow": {
     "slide_type": "slide"
    }
   },
   "source": [
    "Distributed computing with dask"
   ]
  },
  {
   "cell_type": "code",
   "execution_count": null,
   "metadata": {
    "slideshow": {
     "slide_type": "fragment"
    }
   },
   "outputs": [],
   "source": [
    "from dask.distributed import Client, LocalCluster\n",
    "cluster = LocalCluster()\n",
    "client = Client(cluster)"
   ]
  },
  {
   "cell_type": "code",
   "execution_count": null,
   "metadata": {
    "slideshow": {
     "slide_type": "fragment"
    }
   },
   "outputs": [],
   "source": [
    "client"
   ]
  },
  {
   "cell_type": "markdown",
   "metadata": {
    "slideshow": {
     "slide_type": "slide"
    }
   },
   "source": [
    "make a relatively large computation so we can see what's going on with dask:"
   ]
  },
  {
   "cell_type": "code",
   "execution_count": null,
   "metadata": {
    "slideshow": {
     "slide_type": "fragment"
    }
   },
   "outputs": [],
   "source": [
    "Tclim = ds['thetao'].mean(dim='time')"
   ]
  },
  {
   "cell_type": "code",
   "execution_count": null,
   "metadata": {
    "slideshow": {
     "slide_type": "fragment"
    }
   },
   "outputs": [],
   "source": [
    "%time Tclim.load()"
   ]
  },
  {
   "cell_type": "code",
   "execution_count": null,
   "metadata": {
    "slideshow": {
     "slide_type": "slide"
    }
   },
   "outputs": [],
   "source": [
    "client.close()\n",
    "cluster.close()"
   ]
  },
  {
   "cell_type": "markdown",
   "metadata": {
    "slideshow": {
     "slide_type": "slide"
    }
   },
   "source": [
    "Equivalent computation with numpy"
   ]
  },
  {
   "cell_type": "code",
   "execution_count": null,
   "metadata": {
    "slideshow": {
     "slide_type": "fragment"
    }
   },
   "outputs": [],
   "source": [
    "def numpy_mean():\n",
    "    nc = netCDF4.Dataset(\"ocean_monthly_z.200301-200712.nc4\", 'r')\n",
    "    data = nc[\"thetao\"][:]\n",
    "    mean = data.mean(axis=0)\n",
    "    return mean"
   ]
  },
  {
   "cell_type": "code",
   "execution_count": null,
   "metadata": {
    "slideshow": {
     "slide_type": "fragment"
    }
   },
   "outputs": [],
   "source": [
    "%time Tclim = numpy_mean()"
   ]
  },
  {
   "cell_type": "markdown",
   "metadata": {
    "slideshow": {
     "slide_type": "fragment"
    }
   },
   "source": [
    "dask can speed up the computation by distributing on multiple cores but this comes with a price (overhead), this is particularly suited for very large computation that do not fit into memory."
   ]
  }
 ],
 "metadata": {
  "celltoolbar": "Slideshow",
  "kernelspec": {
   "display_name": "xarray",
   "language": "python",
   "name": "xarray"
  },
  "language_info": {
   "codemirror_mode": {
    "name": "ipython",
    "version": 3
   },
   "file_extension": ".py",
   "mimetype": "text/x-python",
   "name": "python",
   "nbconvert_exporter": "python",
   "pygments_lexer": "ipython3",
   "version": "3.8.5"
  }
 },
 "nbformat": 4,
 "nbformat_minor": 4
}
